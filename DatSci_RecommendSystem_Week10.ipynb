{
 "cells": [
  {
   "cell_type": "code",
   "execution_count": 1,
   "id": "c76f473e",
   "metadata": {},
   "outputs": [],
   "source": [
    "import pandas as pd\n",
    "from math import sqrt\n",
    "import numpy as np"
   ]
  },
  {
   "cell_type": "code",
   "execution_count": 2,
   "id": "a9e031f5",
   "metadata": {},
   "outputs": [
    {
     "name": "stdout",
     "output_type": "stream",
     "text": [
      "<class 'pandas.core.frame.DataFrame'>\n",
      "RangeIndex: 9742 entries, 0 to 9741\n",
      "Data columns (total 3 columns):\n",
      " #   Column   Non-Null Count  Dtype \n",
      "---  ------   --------------  ----- \n",
      " 0   movieId  9742 non-null   int64 \n",
      " 1   title    9742 non-null   object\n",
      " 2   genres   9742 non-null   object\n",
      "dtypes: int64(1), object(2)\n",
      "memory usage: 228.5+ KB\n",
      "None\n"
     ]
    }
   ],
   "source": [
    "movies_df = pd.read_csv(r'C:\\Users\\tito\\Downloads\\ml-latest-small\\ml-latest-small\\movies.csv')\n",
    "ratings_df = pd.read_csv(r'C:\\Users\\tito\\Downloads\\ml-latest-small\\ml-latest-small\\ratings.csv')\n",
    "print(movies_df.info())"
   ]
  },
  {
   "cell_type": "code",
   "execution_count": 3,
   "id": "0672f88b",
   "metadata": {},
   "outputs": [
    {
     "name": "stdout",
     "output_type": "stream",
     "text": [
      "                               title  rating\n",
      "0        Seven (a.k.a. Se7en) (1995)     5.0\n",
      "1                     Rob Roy (1995)     5.0\n",
      "2                    Imperium (2016)     2.5\n",
      "3  Return of the Pink Panther (1995)     5.0\n",
      "4                     Top Gun (1986)     4.0\n"
     ]
    }
   ],
   "source": [
    "userInput = [{'title':'Seven (a.k.a. Se7en) (1995)', 'rating':5},\n",
    "             {'title':'Rob Roy (1995)', 'rating':5.0},\n",
    "             {'title':'Imperium (2016)', 'rating':2.5},\n",
    "             {'title':'Return of the Pink Panther (1995)', 'rating':5.0},\n",
    "             {'title':'Top Gun (1986)', 'rating':4.0}]\n",
    "\n",
    "inputMovies = pd.DataFrame(userInput)\n",
    "print(inputMovies)"
   ]
  },
  {
   "cell_type": "code",
   "execution_count": 6,
   "id": "172014c8",
   "metadata": {},
   "outputs": [
    {
     "name": "stdout",
     "output_type": "stream",
     "text": [
      "   movieId                        title  rating\n",
      "0       47  Seven (a.k.a. Se7en) (1995)     5.0\n",
      "1      151               Rob Roy (1995)     5.0\n",
      "2     1101               Top Gun (1986)     4.0\n",
      "3   162828              Imperium (2016)     2.5\n"
     ]
    },
    {
     "name": "stderr",
     "output_type": "stream",
     "text": [
      "C:\\Users\\tito\\AppData\\Local\\Temp\\ipykernel_14944\\1969950077.py:3: FutureWarning: In a future version of pandas all arguments of DataFrame.drop except for the argument 'labels' will be keyword-only.\n",
      "  inputMovies = inputMovies.drop('genres', 1) #we don't really need this at the moment\n"
     ]
    }
   ],
   "source": [
    "inputId = movies_df[movies_df['title'].isin(inputMovies['title'].tolist())]\n",
    "inputMovies = pd.merge(inputId, inputMovies)\n",
    "inputMovies = inputMovies.drop('genres', 1) #we don't really need this at the moment\n",
    "inputMovies = inputMovies[['movieId','title','rating',]]\n",
    "print(inputMovies)"
   ]
  },
  {
   "cell_type": "code",
   "execution_count": 7,
   "id": "ec4282c7",
   "metadata": {},
   "outputs": [
    {
     "name": "stdout",
     "output_type": "stream",
     "text": [
      "         userId  rating  timestamp\n",
      "movieId                           \n",
      "47          203     203        203\n",
      "151          44      44         44\n",
      "1101         83      83         83\n",
      "162828        1       1          1\n"
     ]
    }
   ],
   "source": [
    "userSubset = ratings_df[ratings_df['movieId'].isin(inputMovies['movieId'].tolist())]\n",
    "print(userSubset.groupby('movieId').count())"
   ]
  },
  {
   "cell_type": "code",
   "execution_count": 8,
   "id": "d44d8f6e",
   "metadata": {},
   "outputs": [
    {
     "name": "stdout",
     "output_type": "stream",
     "text": [
      "[(64,       userId  movieId  rating   timestamp\n",
      "9440      64       47     4.5  1161520185\n",
      "9449      64      151     3.0  1161529309\n",
      "9539      64     1101     3.0  1161521245), (91,        userId  movieId  rating   timestamp\n",
      "14136      91       47     4.5  1112712832\n",
      "14147      91      151     3.0  1112710950\n",
      "14276      91     1101     3.0  1112711132), (140,        userId  movieId  rating   timestamp\n",
      "21091     140       47     4.0   942842215\n",
      "21101     140      151     4.0   949667175\n",
      "21206     140     1101     4.5  1055093098), (249,        userId  movieId  rating   timestamp\n",
      "36379     249       47     5.0  1346757700\n",
      "36391     249      151     4.0  1357685694\n",
      "36447     249     1101     3.5  1416930822), (288,        userId  movieId  rating   timestamp\n",
      "42126     288       47     3.5  1054568985\n",
      "42136     288      151     4.0  1079984467\n",
      "42274     288     1101     3.0   976138347)]\n"
     ]
    },
    {
     "name": "stderr",
     "output_type": "stream",
     "text": [
      "C:\\Users\\tito\\AppData\\Local\\Temp\\ipykernel_14944\\265942972.py:10: FutureWarning: In a future version of pandas, a length 1 tuple will be returned when iterating over a groupby with a grouper equal to a list of length 1. Don't supply a list with a single grouper to avoid this warning.\n",
      "  userSubsetGroup = sorted(userSubsetGroup, key=take_5_elem, reverse=True)\n"
     ]
    }
   ],
   "source": [
    "#Groupby creates several sub dataframes where they all have the same value in the column specified as the parameter\n",
    "userSubsetGroup = userSubset.groupby(['userId'])\n",
    "\n",
    "def take_5_elem(x):\n",
    "    # print (len(x[1]))\n",
    "    return len(x[1])\n",
    "    \n",
    "\n",
    "#Sorting it so users with movie most in common with the input will have priority\n",
    "userSubsetGroup = sorted(userSubsetGroup, key=take_5_elem, reverse=True)\n",
    "\n",
    "userSubsetGroup = userSubsetGroup[0:100]\n",
    "print(userSubsetGroup[0:5])\n"
   ]
  },
  {
   "cell_type": "code",
   "execution_count": 9,
   "id": "d2593692",
   "metadata": {},
   "outputs": [],
   "source": [
    "#Store the Pearson Correlation in a dictionary, where the key is the user Id and the value is the coefficient\n",
    "pearsonCorrelationDict = {}\n",
    "\n",
    "#For every user group in our subset\n",
    "for name, group in userSubsetGroup:\n",
    "\n",
    "    #Let's start by sorting the input and current user group so the values aren't mixed up later on\n",
    "    group = group.sort_values(by='movieId')\n",
    "    inputMovies = inputMovies.sort_values(by='movieId')\n",
    "\n",
    "    #Get the N for the formula\n",
    "    nRatings = len(group)\n",
    "\n",
    "    #Get the review scores for the movies that they both have in common\n",
    "    temp_df = inputMovies[inputMovies['movieId'].isin(group['movieId'].tolist())]\n",
    "\n",
    "    #And then store them in a temporary buffer variable in a list format to facilitate future calculations\n",
    "    tempRatingList = temp_df['rating'].tolist()\n",
    "   \n",
    "    #Let's also put the current user group reviews in a list format\n",
    "    tempGroupList = group['rating'].tolist()\n",
    "   \n",
    "    \n",
    "    #Now let's calculate the pearson correlation between two users, so called, x and y manually (check the formula from week 7 slide)\n",
    "    Sxx = sum([i**2 for i in tempRatingList]) - pow(sum(tempRatingList),2)/float(nRatings)\n",
    "    Syy = sum([i**2 for i in tempGroupList]) - pow(sum(tempGroupList),2)/float(nRatings)\n",
    "    Sxy = sum( i*j for i, j in zip(tempRatingList, tempGroupList)) - sum(tempRatingList)*sum(tempGroupList)/float(nRatings)\n",
    "\n",
    "    #If the denominator is different than zero, then divide, else, 0 correlation.\n",
    "    if Sxx != 0 and Syy != 0:\n",
    "        pearsonCorrelationDict[name] = Sxy/sqrt(Sxx*Syy)\n",
    "    else:\n",
    "        pearsonCorrelationDict[name] = 0"
   ]
  },
  {
   "cell_type": "code",
   "execution_count": 10,
   "id": "5d992746",
   "metadata": {},
   "outputs": [
    {
     "name": "stdout",
     "output_type": "stream",
     "text": [
      "   similarityIndex  userId\n",
      "0         0.500000      64\n",
      "1         0.500000      91\n",
      "2        -1.000000     140\n",
      "3         0.755929     249\n",
      "4         0.866025     288\n"
     ]
    }
   ],
   "source": [
    "pearsonDF = pd.DataFrame.from_dict(pearsonCorrelationDict, orient='index')\n",
    "pearsonDF.columns = ['similarityIndex']\n",
    "pearsonDF['userId'] = pearsonDF.index\n",
    "pearsonDF.index = range(len(pearsonDF))\n",
    "print(pearsonDF.head())"
   ]
  },
  {
   "cell_type": "code",
   "execution_count": 11,
   "id": "10914bba",
   "metadata": {},
   "outputs": [
    {
     "name": "stdout",
     "output_type": "stream",
     "text": [
      "    similarityIndex  userId\n",
      "50              1.0     469\n",
      "31              1.0     239\n",
      "29              1.0     222\n",
      "33              1.0     268\n",
      "35              1.0     307\n"
     ]
    }
   ],
   "source": [
    "topUsers=pearsonDF.sort_values(by='similarityIndex', ascending=False)[0:50]\n",
    "print(topUsers.head())"
   ]
  },
  {
   "cell_type": "code",
   "execution_count": 12,
   "id": "203fe9f0",
   "metadata": {},
   "outputs": [
    {
     "name": "stdout",
     "output_type": "stream",
     "text": [
      "    similarityIndex  userId  movieId  rating  timestamp\n",
      "0               1.0     469        1     4.0  965336888\n",
      "1               1.0     469        6     3.0  965336673\n",
      "2               1.0     469       10     2.0  965334356\n",
      "3               1.0     469       11     3.0  965425831\n",
      "4               1.0     469       29     4.0  965335401\n",
      "..              ...     ...      ...     ...        ...\n",
      "95              1.0     469     1080     5.0  965336888\n",
      "96              1.0     469     1082     4.0  965333459\n",
      "97              1.0     469     1086     4.0  965846225\n",
      "98              1.0     469     1089     5.0  965336673\n",
      "99              1.0     469     1090     4.0  965846279\n",
      "\n",
      "[100 rows x 5 columns]\n"
     ]
    }
   ],
   "source": [
    "topUsersRating=topUsers.merge(ratings_df, left_on='userId', right_on='userId', how='inner')\n",
    "print(topUsersRating.head(100))"
   ]
  },
  {
   "cell_type": "code",
   "execution_count": 13,
   "id": "34b5743f",
   "metadata": {},
   "outputs": [
    {
     "name": "stdout",
     "output_type": "stream",
     "text": [
      "   similarityIndex  userId  movieId  rating  timestamp  weightedRating\n",
      "0              1.0     469        1     4.0  965336888             4.0\n",
      "1              1.0     469        6     3.0  965336673             3.0\n",
      "2              1.0     469       10     2.0  965334356             2.0\n",
      "3              1.0     469       11     3.0  965425831             3.0\n",
      "4              1.0     469       29     4.0  965335401             4.0\n"
     ]
    }
   ],
   "source": [
    "#Multiplies the similarity by the user’s ratings\n",
    "topUsersRating['weightedRating'] = topUsersRating['similarityIndex']*topUsersRating['rating']\n",
    "print(topUsersRating.head())"
   ]
  },
  {
   "cell_type": "code",
   "execution_count": 14,
   "id": "e8731076",
   "metadata": {},
   "outputs": [
    {
     "name": "stdout",
     "output_type": "stream",
     "text": [
      "         sum_similarityIndex  sum_weightedRating\n",
      "movieId                                         \n",
      "1                  22.424909           83.935605\n",
      "2                  17.424909           51.414632\n",
      "3                   7.668980           20.622967\n",
      "4                   0.000000            0.000000\n",
      "5                   5.168980           11.140916\n"
     ]
    }
   ],
   "source": [
    "#Applies a sum to the topUsers after grouping it up by movieId\n",
    "tempTopUsersRating = topUsersRating.groupby('movieId').sum()[['similarityIndex','weightedRating']]\n",
    "tempTopUsersRating.columns = ['sum_similarityIndex','sum_weightedRating']\n",
    "print(tempTopUsersRating.head())"
   ]
  },
  {
   "cell_type": "code",
   "execution_count": 15,
   "id": "058323d8",
   "metadata": {},
   "outputs": [
    {
     "name": "stdout",
     "output_type": "stream",
     "text": [
      "         weighted average recommendation score  movieId\n",
      "movieId                                                \n",
      "1                                     3.742963        1\n",
      "2                                     2.950640        2\n",
      "3                                     2.689141        3\n",
      "4                                          NaN        4\n",
      "5                                     2.155341        5\n",
      "6                                     4.089286        6\n",
      "7                                     2.727273        7\n",
      "9                                     2.000000        9\n",
      "10                                    3.337616       10\n",
      "11                                    3.309524       11\n"
     ]
    }
   ],
   "source": [
    "#Creates an empty dataframe\n",
    "recommendation_df = pd.DataFrame()\n",
    "\n",
    "#Now we take the weighted average\n",
    "recommendation_df['weighted average recommendation score'] = tempTopUsersRating['sum_weightedRating']/tempTopUsersRating['sum_similarityIndex']\n",
    "recommendation_df['movieId'] = tempTopUsersRating.index\n",
    "print(recommendation_df.head(10))"
   ]
  },
  {
   "cell_type": "code",
   "execution_count": 16,
   "id": "d93c618a",
   "metadata": {},
   "outputs": [
    {
     "name": "stdout",
     "output_type": "stream",
     "text": [
      "         weighted average recommendation score  movieId\n",
      "movieId                                                \n",
      "86504                                      5.0    86504\n",
      "65261                                      5.0    65261\n",
      "5034                                       5.0     5034\n",
      "108795                                     5.0   108795\n",
      "67618                                      5.0    67618\n",
      "...                                        ...      ...\n",
      "171023                                     NaN   171023\n",
      "177593                                     NaN   177593\n",
      "180095                                     NaN   180095\n",
      "180777                                     NaN   180777\n",
      "185135                                     NaN   185135\n",
      "\n",
      "[6816 rows x 2 columns]\n"
     ]
    }
   ],
   "source": [
    "recommendation_df = recommendation_df.sort_values(by='weighted average recommendation score', ascending=False)\n",
    "print(recommendation_df)"
   ]
  },
  {
   "cell_type": "code",
   "execution_count": 17,
   "id": "90632da0",
   "metadata": {},
   "outputs": [
    {
     "name": "stdout",
     "output_type": "stream",
     "text": [
      "      movieId                                  title  \\\n",
      "0           1                       Toy Story (1995)   \n",
      "1           2                         Jumanji (1995)   \n",
      "2           3                Grumpier Old Men (1995)   \n",
      "3           4               Waiting to Exhale (1995)   \n",
      "4           5     Father of the Bride Part II (1995)   \n",
      "...       ...                                    ...   \n",
      "9707   187031  Jurassic World: Fallen Kingdom (2018)   \n",
      "9709   187593                      Deadpool 2 (2018)   \n",
      "9710   187595         Solo: A Star Wars Story (2018)   \n",
      "9713   188301            Ant-Man and the Wasp (2018)   \n",
      "9716   188797                             Tag (2018)   \n",
      "\n",
      "                                           genres  \n",
      "0     Adventure|Animation|Children|Comedy|Fantasy  \n",
      "1                      Adventure|Children|Fantasy  \n",
      "2                                  Comedy|Romance  \n",
      "3                            Comedy|Drama|Romance  \n",
      "4                                          Comedy  \n",
      "...                                           ...  \n",
      "9707       Action|Adventure|Drama|Sci-Fi|Thriller  \n",
      "9709                         Action|Comedy|Sci-Fi  \n",
      "9710             Action|Adventure|Children|Sci-Fi  \n",
      "9713       Action|Adventure|Comedy|Fantasy|Sci-Fi  \n",
      "9716                                       Comedy  \n",
      "\n",
      "[6812 rows x 3 columns]\n"
     ]
    }
   ],
   "source": [
    "recommended_movie=movies_df.loc[movies_df['movieId'].isin(recommendation_df['movieId'])]\n",
    "\n",
    "#we don't want to recommend the same movie\n",
    "recommended_movie=recommended_movie.loc[~recommended_movie.movieId.isin(userSubset['movieId'])]\n",
    "\n",
    "print(recommended_movie)"
   ]
  },
  {
   "cell_type": "code",
   "execution_count": null,
   "id": "c5475679",
   "metadata": {},
   "outputs": [],
   "source": []
  }
 ],
 "metadata": {
  "kernelspec": {
   "display_name": "Python 3 (ipykernel)",
   "language": "python",
   "name": "python3"
  },
  "language_info": {
   "codemirror_mode": {
    "name": "ipython",
    "version": 3
   },
   "file_extension": ".py",
   "mimetype": "text/x-python",
   "name": "python",
   "nbconvert_exporter": "python",
   "pygments_lexer": "ipython3",
   "version": "3.11.4"
  }
 },
 "nbformat": 4,
 "nbformat_minor": 5
}
